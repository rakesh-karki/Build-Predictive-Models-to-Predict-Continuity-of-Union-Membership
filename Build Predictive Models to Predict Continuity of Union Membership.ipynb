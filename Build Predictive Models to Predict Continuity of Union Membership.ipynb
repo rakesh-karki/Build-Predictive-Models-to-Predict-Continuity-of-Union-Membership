{
 "cells": [
  {
   "cell_type": "markdown",
   "metadata": {},
   "source": [
    "# Build Predictive Models to Predict Continuity of Union Membership"
   ]
  },
  {
   "cell_type": "markdown",
   "metadata": {},
   "source": [
    "## Introduction:\n",
    " \n",
    "**The tables contain following variables:**    \n",
    "- **DS_ID:** member ID number  \n",
    "- **gender:** member gender  \n",
    "- **management:** if the member holds management position  \n",
    "- **USACitizen:** if the member is a USA citizen  \n",
    "- **Married:** if the member is married  \n",
    "- **MonthsInUnion:** how many months the member has been a Union member  \n",
    "- **ContinuingEd:** if the member is continuing education  \n",
    "- **Feature A, B, C, D, E, F:** fictitious features  \n",
    "- **Connectivity:** member's internet connectivity  \n",
    "- **DuesFrequency:** union fees pay frequency  \n",
    "- **PaperlessBill:** if the member receives paperless bill  \n",
    "- **PaymentMethod:** method of union due payment  \n",
    "- **MonthlyDue:** monthly membership due   \n",
    "- **TotalDues:** total outstanding due  \n",
    "- **LeftUnion:** still a union member; or no longer a member (only available in train DataFrame)    \n",
    "\n",
    "**Analysis Flow:**\n",
    "- **Part A: Set Up the Environment:**\n",
    "- **Part B: Load the Data:**  \n",
    "- **Part C: Explore the data:**  \n",
    "- **Part D: Clean the Data:**  \n",
    "- **Part E: Plot the data:**  \n",
    "- **Part F: Data Standardization / Normalization:**  \n",
    "- **Part G: PCA Analysis:**  \n",
    "- **Part H: Build the Logistic Regression Model:**  \n",
    "- **Part I: Build the Decision Tree:**  \n",
    "- **Part J: Build the Random Forest model:**  \n",
    "- **Part K: Build the Support Vector Machine (SVM):**  \n",
    "- **Part L: Build the Neural Networks:**  \n",
    "- **Part M: Identify the best predictive model and predict the label:**\n"
   ]
  },
  {
   "cell_type": "markdown",
   "metadata": {},
   "source": [
    "## Part A: Set Up Environment:\n",
    "#### Import the required tools for the analysis."
   ]
  },
  {
   "cell_type": "code",
   "execution_count": 1,
   "metadata": {},
   "outputs": [],
   "source": [
    "import os\n",
    "import numpy as np\n",
    "import matplotlib.pyplot as plt\n",
    "import pandas as pd\n",
    "import sklearn\n",
    "import seaborn as sns\n",
    "from sklearn.model_selection import train_test_split\n",
    "from sklearn.preprocessing import OneHotEncoder\n",
    "from sklearn.metrics import classification_report\n",
    "from sklearn.linear_model import LinearRegression\n",
    "from sklearn.linear_model import LogisticRegression\n",
    "from sklearn.tree import DecisionTreeClassifier\n",
    "from sklearn.ensemble import RandomForestClassifier\n",
    "from sklearn import decomposition\n",
    "from sklearn.preprocessing import StandardScaler\n",
    "from sklearn.decomposition import PCA\n",
    "from sklearn.svm import SVC\n",
    "from sklearn.model_selection import GridSearchCV\n",
    "from sklearn.neural_network import MLPClassifier\n",
    "from random import random"
   ]
  },
  {
   "cell_type": "markdown",
   "metadata": {},
   "source": [
    "## Part B: Load the Data:\n",
    "#### Load the test and toPredict data (which is used to predict the target  variable \"LeftUnion\") from local drive."
   ]
  },
  {
   "cell_type": "code",
   "execution_count": 2,
   "metadata": {},
   "outputs": [],
   "source": [
    "folder = os.getcwd() + '/'\n",
    "train_data = pd.read_csv(folder +'UDSU_train_Data.csv', sep=',', header = 0)\n",
    "toPredict_data = pd.read_csv(folder +'UDSU_toPredict_data.csv', sep=',', header = 0)"
   ]
  },
  {
   "cell_type": "markdown",
   "metadata": {},
   "source": [
    "## Part C: Explore the data:"
   ]
  },
  {
   "cell_type": "markdown",
   "metadata": {},
   "source": [
    "#### Find the shape (rowsXcolumn) of the DataFrames."
   ]
  },
  {
   "cell_type": "code",
   "execution_count": 3,
   "metadata": {},
   "outputs": [
    {
     "name": "stdout",
     "output_type": "stream",
     "text": [
      "(999, 21)\n",
      "(5000, 20)\n"
     ]
    }
   ],
   "source": [
    "print(train_data.shape)\n",
    "print(toPredict_data.shape)"
   ]
  },
  {
   "cell_type": "markdown",
   "metadata": {},
   "source": [
    "#### Preview the first few rows of train DataFrame."
   ]
  },
  {
   "cell_type": "code",
   "execution_count": 4,
   "metadata": {
    "scrolled": false
   },
   "outputs": [
    {
     "data": {
      "text/html": [
       "<div>\n",
       "<style scoped>\n",
       "    .dataframe tbody tr th:only-of-type {\n",
       "        vertical-align: middle;\n",
       "    }\n",
       "\n",
       "    .dataframe tbody tr th {\n",
       "        vertical-align: top;\n",
       "    }\n",
       "\n",
       "    .dataframe thead th {\n",
       "        text-align: right;\n",
       "    }\n",
       "</style>\n",
       "<table border=\"1\" class=\"dataframe\">\n",
       "  <thead>\n",
       "    <tr style=\"text-align: right;\">\n",
       "      <th></th>\n",
       "      <th>DS_ID</th>\n",
       "      <th>gender</th>\n",
       "      <th>Management</th>\n",
       "      <th>USAcitizen</th>\n",
       "      <th>Married</th>\n",
       "      <th>MonthsInUnion</th>\n",
       "      <th>ContinuingEd</th>\n",
       "      <th>FeatureA</th>\n",
       "      <th>Connectivity</th>\n",
       "      <th>FeatureC</th>\n",
       "      <th>...</th>\n",
       "      <th>FeatureE</th>\n",
       "      <th>FeatureF</th>\n",
       "      <th>FeatureG</th>\n",
       "      <th>FeatureB</th>\n",
       "      <th>DuesFrequency</th>\n",
       "      <th>PaperlessBilling</th>\n",
       "      <th>PaymentMethod</th>\n",
       "      <th>MonthlyDues</th>\n",
       "      <th>TotalDues</th>\n",
       "      <th>LeftUnion</th>\n",
       "    </tr>\n",
       "  </thead>\n",
       "  <tbody>\n",
       "    <tr>\n",
       "      <th>0</th>\n",
       "      <td>5000</td>\n",
       "      <td>Female</td>\n",
       "      <td>0</td>\n",
       "      <td>Yes</td>\n",
       "      <td>No</td>\n",
       "      <td>1</td>\n",
       "      <td>Yes</td>\n",
       "      <td>No</td>\n",
       "      <td>other</td>\n",
       "      <td>Maryville</td>\n",
       "      <td>...</td>\n",
       "      <td>Maryville</td>\n",
       "      <td>Maryville</td>\n",
       "      <td>Maryville</td>\n",
       "      <td>Maryville</td>\n",
       "      <td>Month-to-month</td>\n",
       "      <td>Yes</td>\n",
       "      <td>Mailed check</td>\n",
       "      <td>21</td>\n",
       "      <td>21</td>\n",
       "      <td>No</td>\n",
       "    </tr>\n",
       "    <tr>\n",
       "      <th>1</th>\n",
       "      <td>5001</td>\n",
       "      <td>Male</td>\n",
       "      <td>0</td>\n",
       "      <td>No</td>\n",
       "      <td>No</td>\n",
       "      <td>31</td>\n",
       "      <td>Yes</td>\n",
       "      <td>No</td>\n",
       "      <td>Fiber optic</td>\n",
       "      <td>No</td>\n",
       "      <td>...</td>\n",
       "      <td>No</td>\n",
       "      <td>Yes</td>\n",
       "      <td>No</td>\n",
       "      <td>No</td>\n",
       "      <td>Month-to-month</td>\n",
       "      <td>Yes</td>\n",
       "      <td>Electronic check</td>\n",
       "      <td>78</td>\n",
       "      <td>2435</td>\n",
       "      <td>Yes</td>\n",
       "    </tr>\n",
       "    <tr>\n",
       "      <th>2</th>\n",
       "      <td>5001</td>\n",
       "      <td>Male</td>\n",
       "      <td>0</td>\n",
       "      <td>Yes</td>\n",
       "      <td>Yes</td>\n",
       "      <td>13</td>\n",
       "      <td>Yes</td>\n",
       "      <td>No</td>\n",
       "      <td>DSL</td>\n",
       "      <td>No</td>\n",
       "      <td>...</td>\n",
       "      <td>Yes</td>\n",
       "      <td>Yes</td>\n",
       "      <td>No</td>\n",
       "      <td>No</td>\n",
       "      <td>Month-to-month</td>\n",
       "      <td>No</td>\n",
       "      <td>Bank transfer (automatic)</td>\n",
       "      <td>62</td>\n",
       "      <td>750</td>\n",
       "      <td>No</td>\n",
       "    </tr>\n",
       "    <tr>\n",
       "      <th>3</th>\n",
       "      <td>5002</td>\n",
       "      <td>Female</td>\n",
       "      <td>0</td>\n",
       "      <td>No</td>\n",
       "      <td>Yes</td>\n",
       "      <td>37</td>\n",
       "      <td>Yes</td>\n",
       "      <td>No</td>\n",
       "      <td>other</td>\n",
       "      <td>Maryville</td>\n",
       "      <td>...</td>\n",
       "      <td>Maryville</td>\n",
       "      <td>Maryville</td>\n",
       "      <td>Maryville</td>\n",
       "      <td>Maryville</td>\n",
       "      <td>One year</td>\n",
       "      <td>No</td>\n",
       "      <td>Bank transfer (automatic)</td>\n",
       "      <td>20</td>\n",
       "      <td>755</td>\n",
       "      <td>No</td>\n",
       "    </tr>\n",
       "    <tr>\n",
       "      <th>4</th>\n",
       "      <td>5002</td>\n",
       "      <td>Female</td>\n",
       "      <td>0</td>\n",
       "      <td>No</td>\n",
       "      <td>No</td>\n",
       "      <td>11</td>\n",
       "      <td>Yes</td>\n",
       "      <td>Yes</td>\n",
       "      <td>other</td>\n",
       "      <td>Maryville</td>\n",
       "      <td>...</td>\n",
       "      <td>Maryville</td>\n",
       "      <td>Maryville</td>\n",
       "      <td>Maryville</td>\n",
       "      <td>Maryville</td>\n",
       "      <td>One year</td>\n",
       "      <td>No</td>\n",
       "      <td>Electronic check</td>\n",
       "      <td>25</td>\n",
       "      <td>245</td>\n",
       "      <td>No</td>\n",
       "    </tr>\n",
       "  </tbody>\n",
       "</table>\n",
       "<p>5 rows × 21 columns</p>\n",
       "</div>"
      ],
      "text/plain": [
       "   DS_ID  gender  Management USAcitizen Married  MonthsInUnion ContinuingEd  \\\n",
       "0   5000  Female           0        Yes      No              1          Yes   \n",
       "1   5001    Male           0         No      No             31          Yes   \n",
       "2   5001    Male           0        Yes     Yes             13          Yes   \n",
       "3   5002  Female           0         No     Yes             37          Yes   \n",
       "4   5002  Female           0         No      No             11          Yes   \n",
       "\n",
       "  FeatureA Connectivity   FeatureC  ...   FeatureE   FeatureF   FeatureG  \\\n",
       "0       No        other  Maryville  ...  Maryville  Maryville  Maryville   \n",
       "1       No  Fiber optic         No  ...         No        Yes         No   \n",
       "2       No          DSL         No  ...        Yes        Yes         No   \n",
       "3       No        other  Maryville  ...  Maryville  Maryville  Maryville   \n",
       "4      Yes        other  Maryville  ...  Maryville  Maryville  Maryville   \n",
       "\n",
       "    FeatureB   DuesFrequency PaperlessBilling              PaymentMethod  \\\n",
       "0  Maryville  Month-to-month              Yes               Mailed check   \n",
       "1         No  Month-to-month              Yes           Electronic check   \n",
       "2         No  Month-to-month               No  Bank transfer (automatic)   \n",
       "3  Maryville        One year               No  Bank transfer (automatic)   \n",
       "4  Maryville        One year               No           Electronic check   \n",
       "\n",
       "  MonthlyDues  TotalDues LeftUnion  \n",
       "0          21         21        No  \n",
       "1          78       2435       Yes  \n",
       "2          62        750        No  \n",
       "3          20        755        No  \n",
       "4          25        245        No  \n",
       "\n",
       "[5 rows x 21 columns]"
      ]
     },
     "execution_count": 4,
     "metadata": {},
     "output_type": "execute_result"
    }
   ],
   "source": [
    "train_data.head()"
   ]
  },
  {
   "cell_type": "markdown",
   "metadata": {},
   "source": [
    "#### Preview the first few rows of toPredict DataFrame."
   ]
  },
  {
   "cell_type": "code",
   "execution_count": 5,
   "metadata": {
    "scrolled": true
   },
   "outputs": [
    {
     "data": {
      "text/html": [
       "<div>\n",
       "<style scoped>\n",
       "    .dataframe tbody tr th:only-of-type {\n",
       "        vertical-align: middle;\n",
       "    }\n",
       "\n",
       "    .dataframe tbody tr th {\n",
       "        vertical-align: top;\n",
       "    }\n",
       "\n",
       "    .dataframe thead th {\n",
       "        text-align: right;\n",
       "    }\n",
       "</style>\n",
       "<table border=\"1\" class=\"dataframe\">\n",
       "  <thead>\n",
       "    <tr style=\"text-align: right;\">\n",
       "      <th></th>\n",
       "      <th>DS_ID</th>\n",
       "      <th>gender</th>\n",
       "      <th>Management</th>\n",
       "      <th>USAcitizen</th>\n",
       "      <th>Married</th>\n",
       "      <th>MonthsInUnion</th>\n",
       "      <th>ContinuingEd</th>\n",
       "      <th>FeatureA</th>\n",
       "      <th>Connectivity</th>\n",
       "      <th>FeatureC</th>\n",
       "      <th>FeatureD</th>\n",
       "      <th>FeatureE</th>\n",
       "      <th>FeatureF</th>\n",
       "      <th>FeatureG</th>\n",
       "      <th>FeatureB</th>\n",
       "      <th>DuesFrequency</th>\n",
       "      <th>PaperlessBilling</th>\n",
       "      <th>PaymentMethod</th>\n",
       "      <th>MonthlyDues</th>\n",
       "      <th>TotalDues</th>\n",
       "    </tr>\n",
       "  </thead>\n",
       "  <tbody>\n",
       "    <tr>\n",
       "      <th>0</th>\n",
       "      <td>10000</td>\n",
       "      <td>Male</td>\n",
       "      <td>0</td>\n",
       "      <td>Yes</td>\n",
       "      <td>No</td>\n",
       "      <td>1</td>\n",
       "      <td>No</td>\n",
       "      <td>Maryville</td>\n",
       "      <td>DSL</td>\n",
       "      <td>No</td>\n",
       "      <td>Yes</td>\n",
       "      <td>No</td>\n",
       "      <td>No</td>\n",
       "      <td>No</td>\n",
       "      <td>No</td>\n",
       "      <td>Month-to-month</td>\n",
       "      <td>Yes</td>\n",
       "      <td>Electronic check</td>\n",
       "      <td>30</td>\n",
       "      <td>30</td>\n",
       "    </tr>\n",
       "    <tr>\n",
       "      <th>1</th>\n",
       "      <td>10001</td>\n",
       "      <td>Female</td>\n",
       "      <td>0</td>\n",
       "      <td>No</td>\n",
       "      <td>No</td>\n",
       "      <td>34</td>\n",
       "      <td>Yes</td>\n",
       "      <td>No</td>\n",
       "      <td>DSL</td>\n",
       "      <td>Yes</td>\n",
       "      <td>No</td>\n",
       "      <td>Yes</td>\n",
       "      <td>No</td>\n",
       "      <td>No</td>\n",
       "      <td>No</td>\n",
       "      <td>One year</td>\n",
       "      <td>No</td>\n",
       "      <td>Mailed check</td>\n",
       "      <td>57</td>\n",
       "      <td>1890</td>\n",
       "    </tr>\n",
       "    <tr>\n",
       "      <th>2</th>\n",
       "      <td>10002</td>\n",
       "      <td>Female</td>\n",
       "      <td>0</td>\n",
       "      <td>No</td>\n",
       "      <td>No</td>\n",
       "      <td>2</td>\n",
       "      <td>Yes</td>\n",
       "      <td>No</td>\n",
       "      <td>DSL</td>\n",
       "      <td>Yes</td>\n",
       "      <td>Yes</td>\n",
       "      <td>No</td>\n",
       "      <td>No</td>\n",
       "      <td>No</td>\n",
       "      <td>No</td>\n",
       "      <td>Month-to-month</td>\n",
       "      <td>Yes</td>\n",
       "      <td>Mailed check</td>\n",
       "      <td>54</td>\n",
       "      <td>108</td>\n",
       "    </tr>\n",
       "    <tr>\n",
       "      <th>3</th>\n",
       "      <td>10003</td>\n",
       "      <td>Female</td>\n",
       "      <td>0</td>\n",
       "      <td>No</td>\n",
       "      <td>No</td>\n",
       "      <td>45</td>\n",
       "      <td>No</td>\n",
       "      <td>Maryville</td>\n",
       "      <td>DSL</td>\n",
       "      <td>Yes</td>\n",
       "      <td>No</td>\n",
       "      <td>Yes</td>\n",
       "      <td>Yes</td>\n",
       "      <td>No</td>\n",
       "      <td>No</td>\n",
       "      <td>One year</td>\n",
       "      <td>No</td>\n",
       "      <td>Bank transfer (automatic)</td>\n",
       "      <td>42</td>\n",
       "      <td>1841</td>\n",
       "    </tr>\n",
       "    <tr>\n",
       "      <th>4</th>\n",
       "      <td>10004</td>\n",
       "      <td>Male</td>\n",
       "      <td>0</td>\n",
       "      <td>No</td>\n",
       "      <td>No</td>\n",
       "      <td>2</td>\n",
       "      <td>Yes</td>\n",
       "      <td>No</td>\n",
       "      <td>Fiber optic</td>\n",
       "      <td>No</td>\n",
       "      <td>No</td>\n",
       "      <td>No</td>\n",
       "      <td>No</td>\n",
       "      <td>No</td>\n",
       "      <td>No</td>\n",
       "      <td>Month-to-month</td>\n",
       "      <td>Yes</td>\n",
       "      <td>Electronic check</td>\n",
       "      <td>71</td>\n",
       "      <td>152</td>\n",
       "    </tr>\n",
       "  </tbody>\n",
       "</table>\n",
       "</div>"
      ],
      "text/plain": [
       "   DS_ID  gender  Management USAcitizen Married  MonthsInUnion ContinuingEd  \\\n",
       "0  10000    Male           0        Yes      No              1           No   \n",
       "1  10001  Female           0         No      No             34          Yes   \n",
       "2  10002  Female           0         No      No              2          Yes   \n",
       "3  10003  Female           0         No      No             45           No   \n",
       "4  10004    Male           0         No      No              2          Yes   \n",
       "\n",
       "    FeatureA Connectivity FeatureC FeatureD FeatureE FeatureF FeatureG  \\\n",
       "0  Maryville          DSL       No      Yes       No       No       No   \n",
       "1         No          DSL      Yes       No      Yes       No       No   \n",
       "2         No          DSL      Yes      Yes       No       No       No   \n",
       "3  Maryville          DSL      Yes       No      Yes      Yes       No   \n",
       "4         No  Fiber optic       No       No       No       No       No   \n",
       "\n",
       "  FeatureB   DuesFrequency PaperlessBilling              PaymentMethod  \\\n",
       "0       No  Month-to-month              Yes           Electronic check   \n",
       "1       No        One year               No               Mailed check   \n",
       "2       No  Month-to-month              Yes               Mailed check   \n",
       "3       No        One year               No  Bank transfer (automatic)   \n",
       "4       No  Month-to-month              Yes           Electronic check   \n",
       "\n",
       "   MonthlyDues TotalDues  \n",
       "0           30        30  \n",
       "1           57      1890  \n",
       "2           54       108  \n",
       "3           42      1841  \n",
       "4           71       152  "
      ]
     },
     "execution_count": 5,
     "metadata": {},
     "output_type": "execute_result"
    }
   ],
   "source": [
    "toPredict_data.head()"
   ]
  },
  {
   "cell_type": "markdown",
   "metadata": {},
   "source": [
    "#### View the train and toPredict DataFrame in a bit more detail with info( ) function."
   ]
  },
  {
   "cell_type": "code",
   "execution_count": 6,
   "metadata": {
    "scrolled": true
   },
   "outputs": [
    {
     "name": "stdout",
     "output_type": "stream",
     "text": [
      "<class 'pandas.core.frame.DataFrame'>\n",
      "RangeIndex: 999 entries, 0 to 998\n",
      "Data columns (total 21 columns):\n",
      " #   Column            Non-Null Count  Dtype \n",
      "---  ------            --------------  ----- \n",
      " 0   DS_ID             999 non-null    int64 \n",
      " 1   gender            999 non-null    object\n",
      " 2   Management        999 non-null    int64 \n",
      " 3   USAcitizen        999 non-null    object\n",
      " 4   Married           999 non-null    object\n",
      " 5   MonthsInUnion     999 non-null    int64 \n",
      " 6   ContinuingEd      999 non-null    object\n",
      " 7   FeatureA          999 non-null    object\n",
      " 8   Connectivity      999 non-null    object\n",
      " 9   FeatureC          999 non-null    object\n",
      " 10  FeatureD          999 non-null    object\n",
      " 11  FeatureE          999 non-null    object\n",
      " 12  FeatureF          999 non-null    object\n",
      " 13  FeatureG          999 non-null    object\n",
      " 14  FeatureB          999 non-null    object\n",
      " 15  DuesFrequency     999 non-null    object\n",
      " 16  PaperlessBilling  999 non-null    object\n",
      " 17  PaymentMethod     999 non-null    object\n",
      " 18  MonthlyDues       999 non-null    int64 \n",
      " 19  TotalDues         999 non-null    object\n",
      " 20  LeftUnion         999 non-null    object\n",
      "dtypes: int64(4), object(17)\n",
      "memory usage: 164.0+ KB\n",
      "<class 'pandas.core.frame.DataFrame'>\n",
      "RangeIndex: 5000 entries, 0 to 4999\n",
      "Data columns (total 20 columns):\n",
      " #   Column            Non-Null Count  Dtype \n",
      "---  ------            --------------  ----- \n",
      " 0   DS_ID             5000 non-null   int64 \n",
      " 1   gender            5000 non-null   object\n",
      " 2   Management        5000 non-null   int64 \n",
      " 3   USAcitizen        5000 non-null   object\n",
      " 4   Married           5000 non-null   object\n",
      " 5   MonthsInUnion     5000 non-null   int64 \n",
      " 6   ContinuingEd      5000 non-null   object\n",
      " 7   FeatureA          5000 non-null   object\n",
      " 8   Connectivity      5000 non-null   object\n",
      " 9   FeatureC          5000 non-null   object\n",
      " 10  FeatureD          5000 non-null   object\n",
      " 11  FeatureE          5000 non-null   object\n",
      " 12  FeatureF          5000 non-null   object\n",
      " 13  FeatureG          5000 non-null   object\n",
      " 14  FeatureB          5000 non-null   object\n",
      " 15  DuesFrequency     5000 non-null   object\n",
      " 16  PaperlessBilling  5000 non-null   object\n",
      " 17  PaymentMethod     5000 non-null   object\n",
      " 18  MonthlyDues       5000 non-null   int64 \n",
      " 19  TotalDues         5000 non-null   object\n",
      "dtypes: int64(4), object(16)\n",
      "memory usage: 781.4+ KB\n"
     ]
    },
    {
     "data": {
      "text/plain": [
       "(None, None)"
      ]
     },
     "execution_count": 6,
     "metadata": {},
     "output_type": "execute_result"
    }
   ],
   "source": [
    "train_data.info(), toPredict_data.info()"
   ]
  },
  {
   "cell_type": "markdown",
   "metadata": {},
   "source": [
    "## Part D: Data Cleaning:\n",
    "#### Clean the data to make it suitable for further analysis."
   ]
  },
  {
   "cell_type": "markdown",
   "metadata": {},
   "source": [
    "#### Check and display duplicate rows in train DataFrame, if any. As we be see below, there are no duplicate rows in test DataFrame."
   ]
  },
  {
   "cell_type": "code",
   "execution_count": 7,
   "metadata": {
    "scrolled": true
   },
   "outputs": [
    {
     "name": "stdout",
     "output_type": "stream",
     "text": [
      "0\n"
     ]
    },
    {
     "data": {
      "text/html": [
       "<div>\n",
       "<style scoped>\n",
       "    .dataframe tbody tr th:only-of-type {\n",
       "        vertical-align: middle;\n",
       "    }\n",
       "\n",
       "    .dataframe tbody tr th {\n",
       "        vertical-align: top;\n",
       "    }\n",
       "\n",
       "    .dataframe thead th {\n",
       "        text-align: right;\n",
       "    }\n",
       "</style>\n",
       "<table border=\"1\" class=\"dataframe\">\n",
       "  <thead>\n",
       "    <tr style=\"text-align: right;\">\n",
       "      <th></th>\n",
       "      <th>DS_ID</th>\n",
       "      <th>gender</th>\n",
       "      <th>Management</th>\n",
       "      <th>USAcitizen</th>\n",
       "      <th>Married</th>\n",
       "      <th>MonthsInUnion</th>\n",
       "      <th>ContinuingEd</th>\n",
       "      <th>FeatureA</th>\n",
       "      <th>Connectivity</th>\n",
       "      <th>FeatureC</th>\n",
       "      <th>...</th>\n",
       "      <th>FeatureE</th>\n",
       "      <th>FeatureF</th>\n",
       "      <th>FeatureG</th>\n",
       "      <th>FeatureB</th>\n",
       "      <th>DuesFrequency</th>\n",
       "      <th>PaperlessBilling</th>\n",
       "      <th>PaymentMethod</th>\n",
       "      <th>MonthlyDues</th>\n",
       "      <th>TotalDues</th>\n",
       "      <th>LeftUnion</th>\n",
       "    </tr>\n",
       "  </thead>\n",
       "  <tbody>\n",
       "  </tbody>\n",
       "</table>\n",
       "<p>0 rows × 21 columns</p>\n",
       "</div>"
      ],
      "text/plain": [
       "Empty DataFrame\n",
       "Columns: [DS_ID, gender, Management, USAcitizen, Married, MonthsInUnion, ContinuingEd, FeatureA, Connectivity, FeatureC, FeatureD, FeatureE, FeatureF, FeatureG, FeatureB, DuesFrequency, PaperlessBilling, PaymentMethod, MonthlyDues, TotalDues, LeftUnion]\n",
       "Index: []\n",
       "\n",
       "[0 rows x 21 columns]"
      ]
     },
     "execution_count": 7,
     "metadata": {},
     "output_type": "execute_result"
    }
   ],
   "source": [
    "# Check if there are any duplicate rows\n",
    "duplicate_train_sum = train_data.duplicated().sum()\n",
    "\n",
    "# Show the duplicate rows, if any\n",
    "duplicate_train = train_data[train_data.duplicated(keep= False)]\n",
    "\n",
    "print(duplicate_train_sum)\n",
    "duplicate_train"
   ]
  },
  {
   "cell_type": "markdown",
   "metadata": {},
   "source": [
    "#### Coerce any non-numeric values in numeric columns (\"MonthlyDues\", \"TotalDues\") in train and toPredict DataFrame to NaN."
   ]
  },
  {
   "cell_type": "code",
   "execution_count": 8,
   "metadata": {},
   "outputs": [],
   "source": [
    "train_data[[\"MonthlyDues\", \"TotalDues\"]] = (train_data[[\"MonthlyDues\", \"TotalDues\"]]\n",
    "                                                .apply(pd.to_numeric, errors = 'coerce'))\n",
    "\n",
    "toPredict_data[[\"MonthlyDues\", \"TotalDues\"]] = (toPredict_data[[\"MonthlyDues\", \"TotalDues\"]]\n",
    "                                                .apply(pd.to_numeric, errors = 'coerce'))"
   ]
  },
  {
   "cell_type": "markdown",
   "metadata": {},
   "source": [
    "#### Check and count any missing values in each of the columns of train and toPredict DataFrame."
   ]
  },
  {
   "cell_type": "code",
   "execution_count": 9,
   "metadata": {
    "scrolled": true
   },
   "outputs": [
    {
     "data": {
      "text/plain": [
       "DS_ID               0\n",
       "gender              0\n",
       "Management          0\n",
       "USAcitizen          0\n",
       "Married             0\n",
       "MonthsInUnion       0\n",
       "ContinuingEd        0\n",
       "FeatureA            0\n",
       "Connectivity        0\n",
       "FeatureC            0\n",
       "FeatureD            0\n",
       "FeatureE            0\n",
       "FeatureF            0\n",
       "FeatureG            0\n",
       "FeatureB            0\n",
       "DuesFrequency       0\n",
       "PaperlessBilling    0\n",
       "PaymentMethod       0\n",
       "MonthlyDues         0\n",
       "TotalDues           1\n",
       "LeftUnion           0\n",
       "dtype: int64"
      ]
     },
     "execution_count": 9,
     "metadata": {},
     "output_type": "execute_result"
    }
   ],
   "source": [
    "train_data.isnull().sum()"
   ]
  },
  {
   "cell_type": "code",
   "execution_count": 10,
   "metadata": {
    "scrolled": true
   },
   "outputs": [
    {
     "data": {
      "text/plain": [
       "DS_ID               0\n",
       "gender              0\n",
       "Management          0\n",
       "USAcitizen          0\n",
       "Married             0\n",
       "MonthsInUnion       0\n",
       "ContinuingEd        0\n",
       "FeatureA            0\n",
       "Connectivity        0\n",
       "FeatureC            0\n",
       "FeatureD            0\n",
       "FeatureE            0\n",
       "FeatureF            0\n",
       "FeatureG            0\n",
       "FeatureB            0\n",
       "DuesFrequency       0\n",
       "PaperlessBilling    0\n",
       "PaymentMethod       0\n",
       "MonthlyDues         0\n",
       "TotalDues           8\n",
       "dtype: int64"
      ]
     },
     "execution_count": 10,
     "metadata": {},
     "output_type": "execute_result"
    }
   ],
   "source": [
    "toPredict_data.isnull().sum()"
   ]
  },
  {
   "cell_type": "markdown",
   "metadata": {},
   "source": [
    "#### As there are not many NaN and missing values in the train and toPredict DataFrame, we will remove all of the rows with NaN and missing values from the DataFrames. Check the new DataFrame structure to confirm the removal."
   ]
  },
  {
   "cell_type": "code",
   "execution_count": 11,
   "metadata": {},
   "outputs": [
    {
     "name": "stdout",
     "output_type": "stream",
     "text": [
      "(998, 21)\n",
      "(4992, 20)\n"
     ]
    }
   ],
   "source": [
    "toPredict_data = toPredict_data.dropna(axis = 0, inplace = False)\n",
    "train_data = train_data.dropna(axis = 0, inplace = False)\n",
    "\n",
    "print(train_data.shape)\n",
    "print(toPredict_data.shape)"
   ]
  },
  {
   "cell_type": "markdown",
   "metadata": {},
   "source": [
    "#### Check the data types of the variables (columns) in train and toPredict DataFrame."
   ]
  },
  {
   "cell_type": "code",
   "execution_count": 12,
   "metadata": {},
   "outputs": [
    {
     "data": {
      "text/plain": [
       "(DS_ID                 int64\n",
       " gender               object\n",
       " Management            int64\n",
       " USAcitizen           object\n",
       " Married              object\n",
       " MonthsInUnion         int64\n",
       " ContinuingEd         object\n",
       " FeatureA             object\n",
       " Connectivity         object\n",
       " FeatureC             object\n",
       " FeatureD             object\n",
       " FeatureE             object\n",
       " FeatureF             object\n",
       " FeatureG             object\n",
       " FeatureB             object\n",
       " DuesFrequency        object\n",
       " PaperlessBilling     object\n",
       " PaymentMethod        object\n",
       " MonthlyDues           int64\n",
       " TotalDues           float64\n",
       " LeftUnion            object\n",
       " dtype: object,\n",
       " DS_ID                 int64\n",
       " gender               object\n",
       " Management            int64\n",
       " USAcitizen           object\n",
       " Married              object\n",
       " MonthsInUnion         int64\n",
       " ContinuingEd         object\n",
       " FeatureA             object\n",
       " Connectivity         object\n",
       " FeatureC             object\n",
       " FeatureD             object\n",
       " FeatureE             object\n",
       " FeatureF             object\n",
       " FeatureG             object\n",
       " FeatureB             object\n",
       " DuesFrequency        object\n",
       " PaperlessBilling     object\n",
       " PaymentMethod        object\n",
       " MonthlyDues           int64\n",
       " TotalDues           float64\n",
       " dtype: object)"
      ]
     },
     "execution_count": 12,
     "metadata": {},
     "output_type": "execute_result"
    }
   ],
   "source": [
    "train_data.dtypes, toPredict_data.dtypes"
   ]
  },
  {
   "cell_type": "markdown",
   "metadata": {},
   "source": [
    "#### Visually display the distribution of numerical variables in train DataFrame and check if there are any outliers."
   ]
  },
  {
   "cell_type": "code",
   "execution_count": 13,
   "metadata": {
    "scrolled": true
   },
   "outputs": [
    {
     "data": {
      "text/plain": [
       "Text(0.5, 1, 'Numerical features before removing outliers - Train Data')"
      ]
     },
     "execution_count": 13,
     "metadata": {},
     "output_type": "execute_result"
    },
    {
     "data": {
      "image/png": "[encoded data removed]",
      "text/plain": [
       "<Figure size 432x288 with 3 Axes>"
      ]
     },
     "metadata": {
      "needs_background": "light"
     },
     "output_type": "display_data"
    }
   ],
   "source": [
    "f, axes = plt.subplots(1, 3)\n",
    "sns.set_context({\"figure.figsize\": (5, 5)})\n",
    "sns.boxplot(y = \"MonthsInUnion\", data = train_data , ax = axes[0])\n",
    "sns.boxplot(y = \"MonthlyDues\", data = train_data, ax = axes[1])\n",
    "sns.boxplot(y = \"TotalDues\", data = train_data , ax = axes[2])\n",
    "plt.suptitle(\"Numerical features before removing outliers - Train Data\", y = 1, fontsize = 20)"
   ]
  },
  {
   "cell_type": "markdown",
   "metadata": {},
   "source": [
    "#### Extract the numerical variables ('MonthsInUnion', 'MonthlyDues', 'TotalDues') form train DataFrame."
   ]
  },
  {
   "cell_type": "code",
   "execution_count": 14,
   "metadata": {},
   "outputs": [],
   "source": [
    "train_numerical= train_data.loc[: ,('MonthsInUnion','MonthlyDues','TotalDues')]"
   ]
  },
  {
   "cell_type": "markdown",
   "metadata": {},
   "source": [
    "#### Calculate IQR of the numerical variables as identified above to detect the outlier."
   ]
  },
  {
   "cell_type": "code",
   "execution_count": 15,
   "metadata": {
    "scrolled": true
   },
   "outputs": [
    {
     "name": "stdout",
     "output_type": "stream",
     "text": [
      "MonthsInUnion      48.00\n",
      "MonthlyDues        51.00\n",
      "TotalDues        3284.75\n",
      "dtype: float64\n"
     ]
    }
   ],
   "source": [
    "Q1  = train_numerical.quantile(0.25)\n",
    "Q3  = train_numerical.quantile(0.75)\n",
    "IQR = Q3 - Q1\n",
    "print(IQR)"
   ]
  },
  {
   "cell_type": "markdown",
   "metadata": {},
   "source": [
    "#### Remove outlier values from the numerical variables in train DataFrame."
   ]
  },
  {
   "cell_type": "code",
   "execution_count": 16,
   "metadata": {
    "scrolled": true
   },
   "outputs": [
    {
     "data": {
      "text/plain": [
       "(995, 21)"
      ]
     },
     "execution_count": 16,
     "metadata": {},
     "output_type": "execute_result"
    }
   ],
   "source": [
    "train_data= train_data[~((train_data < (Q1 - 1.5 * IQR)) |(train_data > (Q3 + 1.5 * IQR))).any(axis = 1)]\n",
    "train_data.shape"
   ]
  },
  {
   "cell_type": "markdown",
   "metadata": {},
   "source": [
    "#### Identify and drop the \"ID\" column from the test and toPredict dataFrames for analysis as this does not add any analytical value."
   ]
  },
  {
   "cell_type": "code",
   "execution_count": 17,
   "metadata": {},
   "outputs": [
    {
     "name": "stdout",
     "output_type": "stream",
     "text": [
      "(995, 20)\n",
      "(4992, 19)\n"
     ]
    }
   ],
   "source": [
    "# assign the ID columns to a varaible later to be used to build the prediction DataFrame\n",
    "test_ID = toPredict_data.loc[:,'DS_ID']\n",
    "train_ID = train_data.loc[:,'DS_ID']\n",
    "\n",
    "# drop the test id for analysis\n",
    "toPredict_data = toPredict_data.drop(['DS_ID'],axis=1)\n",
    "train_data = train_data.drop(['DS_ID'],axis=1)\n",
    "\n",
    "print(train_data.shape)\n",
    "print(toPredict_data.shape)"
   ]
  },
  {
   "cell_type": "markdown",
   "metadata": {},
   "source": [
    "#### Check the distribution of numerical variables after removing the outlier from train DataFrame."
   ]
  },
  {
   "cell_type": "code",
   "execution_count": 18,
   "metadata": {
    "scrolled": true
   },
   "outputs": [
    {
     "data": {
      "text/plain": [
       "Text(0.5, 1, 'Numerical features after removing outliers - Train Data')"
      ]
     },
     "execution_count": 18,
     "metadata": {},
     "output_type": "execute_result"
    },
    {
     "data": {
      "image/png": "[encoded data removed]",
      "text/plain": [
       "<Figure size 360x360 with 3 Axes>"
      ]
     },
     "metadata": {
      "needs_background": "light"
     },
     "output_type": "display_data"
    }
   ],
   "source": [
    "f, axes = plt.subplots(1, 3)\n",
    "sns.set_context({\"figure.figsize\": (5, 5)})\n",
    "sns.boxplot(y = \"MonthsInUnion\", data = train_data , ax = axes[0])\n",
    "sns.boxplot(y = \"MonthlyDues\", data = train_data, ax = axes[1])\n",
    "sns.boxplot(y = \"TotalDues\", data = train_data , ax = axes[2])\n",
    "plt.suptitle(\"Numerical features after removing outliers - Train Data\", y = 1, fontsize = 20)"
   ]
  },
  {
   "cell_type": "markdown",
   "metadata": {},
   "source": [
    "## Part E: Plot the data:"
   ]
  },
  {
   "cell_type": "markdown",
   "metadata": {},
   "source": [
    "#### Identify the columns in train DataFrame."
   ]
  },
  {
   "cell_type": "code",
   "execution_count": 19,
   "metadata": {
    "scrolled": true
   },
   "outputs": [
    {
     "data": {
      "text/plain": [
       "Index(['gender', 'Management', 'USAcitizen', 'Married', 'MonthsInUnion',\n",
       "       'ContinuingEd', 'FeatureA', 'Connectivity', 'FeatureC', 'FeatureD',\n",
       "       'FeatureE', 'FeatureF', 'FeatureG', 'FeatureB', 'DuesFrequency',\n",
       "       'PaperlessBilling', 'PaymentMethod', 'MonthlyDues', 'TotalDues',\n",
       "       'LeftUnion'],\n",
       "      dtype='object')"
      ]
     },
     "execution_count": 19,
     "metadata": {},
     "output_type": "execute_result"
    }
   ],
   "source": [
    "train_data.columns"
   ]
  },
  {
   "cell_type": "markdown",
   "metadata": {},
   "source": [
    "#### Display the distribution of numerical variables separated by the label \"LeftUnion\" using violin plot."
   ]
  },
  {
   "cell_type": "code",
   "execution_count": 20,
   "metadata": {
    "scrolled": true
   },
   "outputs": [
    {
     "data": {
      "text/plain": [
       "Text(0.5, 1, 'Violin plot of numeric variables vs LeftUnion')"
      ]
     },
     "execution_count": 20,
     "metadata": {},
     "output_type": "execute_result"
    },
    {
     "data": {
      "image/png": "[encoded data removed]",
      "text/plain": [
       "<Figure size 360x360 with 4 Axes>"
      ]
     },
     "metadata": {
      "needs_background": "light"
     },
     "output_type": "display_data"
    }
   ],
   "source": [
    "# violin plot of train data features\n",
    "f, axes = plt.subplots(2, 2)\n",
    "sns.violinplot(  y = \"MonthlyDues\", x = \"LeftUnion\", data = train_data,  orient = 'v' , ax=axes[0,0], inner = \"quartile\")\n",
    "sns.violinplot(  y = \"TotalDues\", x = \"LeftUnion\", data = train_data,  orient = 'v' , ax=axes[0,1], inner = \"quartile\")\n",
    "sns.violinplot(  y = \"Management\", x = \"LeftUnion\", data = train_data,  orient = 'v' , ax=axes[1, 0], inner = \"quartile\")\n",
    "sns.violinplot(  y = \"MonthsInUnion\", x = \"LeftUnion\", data = train_data,  orient = 'v' , ax=axes[1, 1], inner = \"quartile\")\n",
    "\n",
    "plt.suptitle(\"Violin plot of numeric variables vs LeftUnion\", y = 1, fontsize=15)"
   ]
  },
  {
   "cell_type": "markdown",
   "metadata": {},
   "source": [
    "#### Plot the categorical variables separated by the label \"LeftUnion\" using bar plot."
   ]
  },
  {
   "cell_type": "code",
   "execution_count": 21,
   "metadata": {
    "scrolled": true
   },
   "outputs": [
    {
     "data": {
      "image/png": "[encoded data removed]",
      "text/plain": [
       "<Figure size 360x360 with 15 Axes>"
      ]
     },
     "metadata": {
      "needs_background": "light"
     },
     "output_type": "display_data"
    }
   ],
   "source": [
    "# Bar plot for categorical variables\n",
    "f, axes = plt.subplots(3, 5)\n",
    "sns.set_context({\"figure.figsize\": (10, 20)})\n",
    "sns.countplot(x = 'gender', hue = 'LeftUnion', data = train_data, ax = axes[0,0])\n",
    "sns.countplot(x = 'Management', hue = 'LeftUnion', data = train_data, ax = axes[0,1])\n",
    "sns.countplot(x = 'USAcitizen', hue = 'LeftUnion', data = train_data, ax = axes[0,2])\n",
    "sns.countplot(x = 'Married', hue = 'LeftUnion', data = train_data, ax = axes[0,3])\n",
    "sns.countplot(x = 'ContinuingEd', hue = 'LeftUnion', data = train_data, ax = axes[0,4])\n",
    "sns.countplot(x = 'FeatureA', hue = 'LeftUnion', data = train_data, ax = axes[1,0])\n",
    "sns.countplot(x = 'Connectivity', hue = 'LeftUnion', data = train_data, ax = axes[1,1])\n",
    "sns.countplot(x = 'FeatureC', hue = 'LeftUnion', data = train_data, ax = axes[1,2])\n",
    "sns.countplot(x = 'FeatureD', hue = 'LeftUnion', data = train_data, ax = axes[1,3])\n",
    "sns.countplot(x = 'FeatureE', hue = 'LeftUnion', data = train_data, ax = axes[1,4])\n",
    "sns.countplot(x = 'FeatureF', hue = 'LeftUnion', data = train_data, ax = axes[2,0])\n",
    "sns.countplot(x = 'FeatureG', hue = 'LeftUnion', data = train_data, ax = axes[2,1])\n",
    "sns.countplot(x = 'FeatureB', hue = 'LeftUnion', data = train_data, ax = axes[2,2])\n",
    "sns.countplot(x = 'DuesFrequency', hue = 'LeftUnion', data = train_data, ax = axes[2,3])\n",
    "sns.countplot(x = 'PaperlessBilling', hue = 'LeftUnion', data = train_data, ax = axes[2,4])\n",
    "\n",
    "plt.show()"
   ]
  },
  {
   "cell_type": "markdown",
   "metadata": {},
   "source": [
    "#### Check if there is any relation between MonthlyDues and MonthsInUnion by gender in terms of label \"LeftUnion\"."
   ]
  },
  {
   "cell_type": "code",
   "execution_count": 22,
   "metadata": {
    "scrolled": true
   },
   "outputs": [
    {
     "data": {
      "image/png": "[encoded data removed]",
      "text/plain": [
       "<Figure size 504.625x216 with 2 Axes>"
      ]
     },
     "metadata": {
      "needs_background": "light"
     },
     "output_type": "display_data"
    }
   ],
   "source": [
    "g = sns.FacetGrid(train_data, col=\"LeftUnion\",  hue =\"gender\", palette=\"Set1\")\n",
    "g = (g.map(plt.scatter, \"MonthlyDues\", \"MonthsInUnion\", edgecolor=\"w\").add_legend())"
   ]
  },
  {
   "cell_type": "markdown",
   "metadata": {},
   "source": [
    "#### Display the numerical variables with pair plots to check if there is any correlation as seen visually."
   ]
  },
  {
   "cell_type": "code",
   "execution_count": 23,
   "metadata": {},
   "outputs": [
    {
     "data": {
      "text/plain": [
       "<seaborn.axisgrid.PairGrid at 0x1a19b8c390>"
      ]
     },
     "execution_count": 23,
     "metadata": {},
     "output_type": "execute_result"
    },
    {
     "data": {
      "image/png": "[encoded data removed]",
      "text/plain": [
       "<Figure size 720x720 with 14 Axes>"
      ]
     },
     "metadata": {
      "needs_background": "light"
     },
     "output_type": "display_data"
    }
   ],
   "source": [
    "sns.pairplot(train_data, corner = True)"
   ]
  },
  {
   "cell_type": "markdown",
   "metadata": {},
   "source": [
    "## Part F: Data Standardization / Normalization:\n",
    "#### Standardize/normalize the variables as needed for the proper fitting of the models."
   ]
  },
  {
   "cell_type": "markdown",
   "metadata": {},
   "source": [
    "#### List all of the columns in train DataFrame."
   ]
  },
  {
   "cell_type": "code",
   "execution_count": 24,
   "metadata": {
    "scrolled": true
   },
   "outputs": [
    {
     "data": {
      "text/plain": [
       "Index(['gender', 'Management', 'USAcitizen', 'Married', 'MonthsInUnion',\n",
       "       'ContinuingEd', 'FeatureA', 'Connectivity', 'FeatureC', 'FeatureD',\n",
       "       'FeatureE', 'FeatureF', 'FeatureG', 'FeatureB', 'DuesFrequency',\n",
       "       'PaperlessBilling', 'PaymentMethod', 'MonthlyDues', 'TotalDues',\n",
       "       'LeftUnion'],\n",
       "      dtype='object')"
      ]
     },
     "execution_count": 24,
     "metadata": {},
     "output_type": "execute_result"
    }
   ],
   "source": [
    "train_data.columns"
   ]
  },
  {
   "cell_type": "markdown",
   "metadata": {},
   "source": [
    "#### 'MonthsInUnion', 'MonthlyDues', 'TotalDues' are numerical feature variables, 'LeftUnion' is label and rest are categorical features variables.\n",
    "#### Separate the categorical, numerical feature variables and label variable in the train DataFrame.  "
   ]
  },
  {
   "cell_type": "code",
   "execution_count": 25,
   "metadata": {},
   "outputs": [
    {
     "name": "stdout",
     "output_type": "stream",
     "text": [
      "Numerical Feature Shape:   (995, 3)\n",
      "Categorical Feature Shape: (995, 16)\n",
      "Label Shape:               (995,)\n"
     ]
    }
   ],
   "source": [
    "# Segregate categorical and numerical variables\n",
    "train_data_num = train_data.loc[:,['MonthsInUnion','MonthlyDues','TotalDues']].values\n",
    "\n",
    "train_data_cat = train_data.loc[:,['gender','Management','USAcitizen', 'Married', 'ContinuingEd', 'FeatureA', \n",
    "                                 'Connectivity', 'FeatureC','FeatureD', 'FeatureE','FeatureF', \n",
    "                                 'FeatureG', 'FeatureB', 'DuesFrequency', 'PaperlessBilling', \n",
    "                                   'PaymentMethod']].values\n",
    "\n",
    "y_train = train_data.LeftUnion.values #label variable of train DataFrame\n",
    "\n",
    "print('Numerical Feature Shape:  ', train_data_num.shape)\n",
    "print('Categorical Feature Shape:',train_data_cat.shape)\n",
    "print('Label Shape:              ', y_train.shape)"
   ]
  },
  {
   "cell_type": "markdown",
   "metadata": {},
   "source": [
    "#### Separate the categorical, numerical feature variables and label variable in the toPredict DataFrame.  "
   ]
  },
  {
   "cell_type": "code",
   "execution_count": 26,
   "metadata": {},
   "outputs": [
    {
     "name": "stdout",
     "output_type": "stream",
     "text": [
      "Numerical Feature Shape:   (4992, 3)\n",
      "Categorical Feature Shape: (4992, 16)\n"
     ]
    }
   ],
   "source": [
    "# Segregate categorical and numerical data\n",
    "toPredict_data_num = toPredict_data.loc[:,['MonthsInUnion','MonthlyDues','TotalDues']].values\n",
    "\n",
    "toPredict_data_cat = toPredict_data.loc[:,['gender','Management','USAcitizen', 'Married', 'ContinuingEd', 'FeatureA', \n",
    "                                 'Connectivity', 'FeatureC','FeatureD', 'FeatureE','FeatureF', \n",
    "                                 'FeatureG', 'FeatureB', 'DuesFrequency', 'PaperlessBilling', \n",
    "                                           'PaymentMethod']].values\n",
    "\n",
    "print('Numerical Feature Shape:  ', toPredict_data_num.shape)\n",
    "print('Categorical Feature Shape:',toPredict_data_cat.shape)"
   ]
  },
  {
   "cell_type": "markdown",
   "metadata": {},
   "source": [
    "#### Encode the categorical variables in train DataFrame by OneHotEncoder( ) function."
   ]
  },
  {
   "cell_type": "code",
   "execution_count": 27,
   "metadata": {},
   "outputs": [
    {
     "name": "stdout",
     "output_type": "stream",
     "text": [
      "Encoded Feature Array Shape: (995, 44)\n"
     ]
    }
   ],
   "source": [
    "encoder = OneHotEncoder(sparse = False)\n",
    "encoder.fit(train_data_cat)\n",
    "train_data_enc = encoder.transform(train_data_cat)\n",
    "\n",
    "print('Encoded Feature Array Shape:', train_data_enc.shape)"
   ]
  },
  {
   "cell_type": "markdown",
   "metadata": {},
   "source": [
    "#### Encode the categorical variables in toPredict DataFrame by OneHotEncoder( ) function."
   ]
  },
  {
   "cell_type": "code",
   "execution_count": 28,
   "metadata": {},
   "outputs": [
    {
     "name": "stdout",
     "output_type": "stream",
     "text": [
      "Encoded Feature Array Shape: (4992, 44)\n"
     ]
    }
   ],
   "source": [
    "encoder = OneHotEncoder(sparse = False)\n",
    "encoder.fit(toPredict_data_cat)\n",
    "toPredict_data_enc = encoder.transform(toPredict_data_cat)\n",
    "\n",
    "print('Encoded Feature Array Shape:', toPredict_data_enc.shape)"
   ]
  },
  {
   "cell_type": "markdown",
   "metadata": {},
   "source": [
    "#### Normalize the numerical variables in test and toPredict DataFrame."
   ]
  },
  {
   "cell_type": "code",
   "execution_count": 29,
   "metadata": {},
   "outputs": [
    {
     "name": "stdout",
     "output_type": "stream",
     "text": [
      "Standarized train Feature Array Shape: (995, 3)\n",
      "Standarized test Feature Array Shape: (4992, 3)\n"
     ]
    }
   ],
   "source": [
    "scaler = StandardScaler()\n",
    "train_data_num = scaler.fit_transform(train_data_num)\n",
    "toPredict_data_num = scaler.fit_transform(toPredict_data_num)\n",
    "\n",
    "print(\"Standarized train Feature Array Shape: \" + str(train_data_num.shape))\n",
    "print(\"Standarized test Feature Array Shape: \" + str(toPredict_data_num.shape))"
   ]
  },
  {
   "cell_type": "markdown",
   "metadata": {},
   "source": [
    "#### Combine the encoded categorical variablesand normalized numerical variables in train and toPredict DataFrame."
   ]
  },
  {
   "cell_type": "code",
   "execution_count": 30,
   "metadata": {},
   "outputs": [
    {
     "name": "stdout",
     "output_type": "stream",
     "text": [
      "Train data Feature Array Shape: (995, 47)\n",
      "test data Feature Array Shape: (4992, 47)\n"
     ]
    }
   ],
   "source": [
    "norm_train_data = np.hstack([train_data_num, train_data_enc])\n",
    "print(\"Train data Feature Array Shape: \" + str(norm_train_data.shape))\n",
    "\n",
    "norm_toPredict_data = np.hstack([toPredict_data_num, toPredict_data_enc])\n",
    "print(\"test data Feature Array Shape: \" + str(norm_toPredict_data.shape))"
   ]
  },
  {
   "cell_type": "markdown",
   "metadata": {},
   "source": [
    "## Part G: PCA Analysis:\n",
    "#### Conduct the PCA analysis to identify/consolidate the variables of importance to reduce the model complexity while maintaining the model prediction power."
   ]
  },
  {
   "cell_type": "markdown",
   "metadata": {},
   "source": [
    "#### Find out the optimal number of principal components by first setting the number of principal components too high (let's say PCA needed to explain 95% of variance in label variable) and then work backward to find optimal number of PCA."
   ]
  },
  {
   "cell_type": "code",
   "execution_count": 31,
   "metadata": {},
   "outputs": [],
   "source": [
    "pca = PCA(0.95) # explains 95% of variances\n",
    "principalComp_train_data_T = pca.fit_transform(norm_train_data)\n",
    "principalComp_train_data_Df_T = pd.DataFrame(principalComp_train_data_T) # create pandas DataFrame "
   ]
  },
  {
   "cell_type": "markdown",
   "metadata": {},
   "source": [
    "#### Check the number of components (DataFrame column) that are required to achieve the result."
   ]
  },
  {
   "cell_type": "code",
   "execution_count": 32,
   "metadata": {},
   "outputs": [
    {
     "name": "stdout",
     "output_type": "stream",
     "text": [
      "(995, 18)\n"
     ]
    }
   ],
   "source": [
    "print(principalComp_train_data_T.shape)"
   ]
  },
  {
   "cell_type": "markdown",
   "metadata": {},
   "source": [
    "### PCA Scree Plot\n",
    "#### Plot Eigenvalue Vs Principal component to finding out what % of the variance is explained by the Principal components. We will find the optimal number of PCA based on the slope of the plot."
   ]
  },
  {
   "cell_type": "code",
   "execution_count": 33,
   "metadata": {
    "scrolled": false
   },
   "outputs": [
    {
     "data": {
      "image/png": "[encoded data removed]",
      "text/plain": [
       "<Figure size 720x360 with 1 Axes>"
      ]
     },
     "metadata": {
      "needs_background": "light"
     },
     "output_type": "display_data"
    }
   ],
   "source": [
    "fig = plt.figure(figsize=(10,5))\n",
    "plt.plot(principalComp_train_data_Df_T.columns, pca.explained_variance_ratio_, 'ro-', linewidth = 1)\n",
    "plt.xlabel('Principal Components')\n",
    "plt.ylabel('Eigenvalue') \n",
    "plt.title('Scree Plot - Principal Components')\n",
    "leg = plt.legend(['Eigenvalues'], loc = 'best', borderpad = 0.5, shadow = False, markerscale = 0.2)\n",
    "leg.get_frame().set_alpha(0.2)\n",
    "plt.show()"
   ]
  },
  {
   "cell_type": "markdown",
   "metadata": {},
   "source": [
    "#### Looking at the scree plot, the Eigenvalue does not drop much beyond the principal component value of 10. Hence, we will select 10 as the optimal number of principal components of for the data transformation. Then we will create DataFrames where the feature variables are replaced with 10 principal components as determined above."
   ]
  },
  {
   "cell_type": "code",
   "execution_count": 34,
   "metadata": {},
   "outputs": [],
   "source": [
    "pca = PCA(n_components = 10) # as selected from scree plot\n",
    "principalComp_train_data = pca.fit_transform(norm_train_data)\n",
    "principalComp_toPredict_data = pca.fit_transform(norm_toPredict_data)"
   ]
  },
  {
   "cell_type": "markdown",
   "metadata": {},
   "source": [
    "#### Convert the DataFrames to the pandas DataFrames for further analysis."
   ]
  },
  {
   "cell_type": "code",
   "execution_count": 35,
   "metadata": {},
   "outputs": [],
   "source": [
    "principalComp_train_data_Df = pd.DataFrame(principalComp_train_data) \n",
    "principalComp_toPredict_data_Df = pd.DataFrame(principalComp_toPredict_data)"
   ]
  },
  {
   "cell_type": "markdown",
   "metadata": {},
   "source": [
    "#### Calculate the % of variation explained by the 10 principal components."
   ]
  },
  {
   "cell_type": "code",
   "execution_count": 36,
   "metadata": {},
   "outputs": [
    {
     "name": "stdout",
     "output_type": "stream",
     "text": [
      "Explained variation for each principal component are:\n",
      "[0.28289672 0.18900881 0.06979871 0.04741601 0.04270473 0.03935866\n",
      " 0.03523526 0.03092199 0.02658453 0.0262455 ]\n",
      "Explained variation all principal components is: 0.7902\n"
     ]
    }
   ],
   "source": [
    "print('Explained variation for each principal component are:'+ '\\n'+ str(pca.explained_variance_ratio_))  \n",
    "\n",
    "print('Explained variation all principal components is: ' + str(round(pca.explained_variance_ratio_.sum(), 4)))"
   ]
  },
  {
   "cell_type": "markdown",
   "metadata": {},
   "source": [
    "## Part H: Build Logistic Regression Model:\n",
    "#### Build logistic regression model using both normalized data and normalized PCA data."
   ]
  },
  {
   "cell_type": "markdown",
   "metadata": {},
   "source": [
    "## Logistic regression with Normalized (non PCA data)\n",
    "#### Build logistic regression model with normalized non PCA data."
   ]
  },
  {
   "cell_type": "markdown",
   "metadata": {},
   "source": [
    "#### Randomly split the normalized training data to 75:25 train and validation data. Training data will be used to train the model and validation data will be used as out of sample data to validate the model performance."
   ]
  },
  {
   "cell_type": "code",
   "execution_count": 37,
   "metadata": {},
   "outputs": [
    {
     "name": "stdout",
     "output_type": "stream",
     "text": [
      "Training data Features Shape:     (746, 47)(746,)\n",
      "Validation data Features Shape:   (249, 47)(249,)\n"
     ]
    }
   ],
   "source": [
    "# randomly split the train data to train and validation by 75:25 ratio\n",
    "X1_train, X1_valid, y1_train, y1_valid = train_test_split(norm_train_data, y_train, test_size=0.25, \n",
    "                                                          random_state = 1, stratify = y_train)\n",
    "\n",
    "print(\"Training data Features Shape:     \"+str(X1_train.shape) + str(y1_train.shape))\n",
    "print(\"Validation data Features Shape:   \"+str(X1_valid.shape) + str(y1_valid.shape))"
   ]
  },
  {
   "cell_type": "markdown",
   "metadata": {},
   "source": [
    "#### Build the logistic regression model and calculate the training and validation accuracy of the model."
   ]
  },
  {
   "cell_type": "code",
   "execution_count": 38,
   "metadata": {},
   "outputs": [
    {
     "name": "stdout",
     "output_type": "stream",
     "text": [
      "Training Accuracy:   0.8123\n",
      "Validation Accuracy: 0.8153\n"
     ]
    }
   ],
   "source": [
    "log_reg_mod = LogisticRegression(solver='lbfgs', penalty = 'none', max_iter = 2000)\n",
    "log_reg_mod.fit(X1_train, y1_train)\n",
    "\n",
    "# predict the label using X1 validation data\n",
    "log_reg_mod.predict(X1_valid)\n",
    "\n",
    "# calculate the training and validaton accuracy of model\n",
    "log_reg_TrainingAccuracy_nonPCA = round(log_reg_mod.score(X1_train, y1_train), 4)\n",
    "log_reg_ValidationAccuracy_nonPCA = round(log_reg_mod.score(X1_valid, y1_valid), 4)\n",
    "\n",
    "print('Training Accuracy:  ', log_reg_TrainingAccuracy_nonPCA)\n",
    "print('Validation Accuracy:', log_reg_ValidationAccuracy_nonPCA)"
   ]
  },
  {
   "cell_type": "markdown",
   "metadata": {},
   "source": [
    "#### Use the logistic regression model to predict the label values of toPredict data."
   ]
  },
  {
   "cell_type": "code",
   "execution_count": 39,
   "metadata": {},
   "outputs": [
    {
     "data": {
      "text/html": [
       "<div>\n",
       "<style scoped>\n",
       "    .dataframe tbody tr th:only-of-type {\n",
       "        vertical-align: middle;\n",
       "    }\n",
       "\n",
       "    .dataframe tbody tr th {\n",
       "        vertical-align: top;\n",
       "    }\n",
       "\n",
       "    .dataframe thead th {\n",
       "        text-align: right;\n",
       "    }\n",
       "</style>\n",
       "<table border=\"1\" class=\"dataframe\">\n",
       "  <thead>\n",
       "    <tr style=\"text-align: right;\">\n",
       "      <th></th>\n",
       "      <th>DS_ID</th>\n",
       "      <th>log_reg_pred</th>\n",
       "    </tr>\n",
       "  </thead>\n",
       "  <tbody>\n",
       "    <tr>\n",
       "      <th>0</th>\n",
       "      <td>10000</td>\n",
       "      <td>Yes</td>\n",
       "    </tr>\n",
       "    <tr>\n",
       "      <th>1</th>\n",
       "      <td>10001</td>\n",
       "      <td>No</td>\n",
       "    </tr>\n",
       "    <tr>\n",
       "      <th>2</th>\n",
       "      <td>10002</td>\n",
       "      <td>No</td>\n",
       "    </tr>\n",
       "    <tr>\n",
       "      <th>3</th>\n",
       "      <td>10003</td>\n",
       "      <td>No</td>\n",
       "    </tr>\n",
       "    <tr>\n",
       "      <th>4</th>\n",
       "      <td>10004</td>\n",
       "      <td>Yes</td>\n",
       "    </tr>\n",
       "  </tbody>\n",
       "</table>\n",
       "</div>"
      ],
      "text/plain": [
       "   DS_ID log_reg_pred\n",
       "0  10000          Yes\n",
       "1  10001           No\n",
       "2  10002           No\n",
       "3  10003           No\n",
       "4  10004          Yes"
      ]
     },
     "execution_count": 39,
     "metadata": {},
     "output_type": "execute_result"
    }
   ],
   "source": [
    "test_pred_log_reg_mod = log_reg_mod.predict(norm_toPredict_data)\n",
    "\n",
    "# Create output of the predicted \n",
    "log_reg_mod_predict = pd.DataFrame(test_ID)\n",
    "log_reg_mod_predict['log_reg_pred'] = test_pred_log_reg_mod # concatinate the predicted value with test ID\n",
    "log_reg_mod_predict.head()"
   ]
  },
  {
   "cell_type": "markdown",
   "metadata": {},
   "source": [
    "## Logistic regression (Normalized - PCA data)\n",
    "#### Build logistic regression model using normalized PCA data. This model can be used to compare the similar model with non-PCA data."
   ]
  },
  {
   "cell_type": "markdown",
   "metadata": {},
   "source": [
    "#### Randomly split the normalized PCA training data to 75:25 train and validation data. Training data will be used to train the model and validation data will be used as out of sample data to validate the model performance."
   ]
  },
  {
   "cell_type": "code",
   "execution_count": 40,
   "metadata": {},
   "outputs": [
    {
     "name": "stdout",
     "output_type": "stream",
     "text": [
      "Training data Features Shape:     (746, 10)(746,)\n",
      "Validation data Features Shape:   (249, 10)(249,)\n"
     ]
    }
   ],
   "source": [
    "X2_train, X2_valid, y2_train, y2_valid = train_test_split(principalComp_train_data_Df, y_train, test_size=0.25, \n",
    "                                                          random_state = 1, stratify = y_train)\n",
    "\n",
    "print(\"Training data Features Shape:     \"+str(X2_train.shape) + str(y2_train.shape))\n",
    "print(\"Validation data Features Shape:   \"+str(X2_valid.shape) + str(y2_valid.shape))"
   ]
  },
  {
   "cell_type": "markdown",
   "metadata": {},
   "source": [
    "#### Build the logistic regression model and calculate the training and validation accuracy of the model."
   ]
  },
  {
   "cell_type": "code",
   "execution_count": 41,
   "metadata": {},
   "outputs": [
    {
     "name": "stdout",
     "output_type": "stream",
     "text": [
      "Training Accuracy:   0.8056\n",
      "Validation Accuracy: 0.8193\n"
     ]
    }
   ],
   "source": [
    "log_reg_mod_pca = LogisticRegression(solver='lbfgs', penalty='none', max_iter = 2000)\n",
    "log_reg_mod_pca.fit(X2_train, y2_train)\n",
    "\n",
    "# predict the label using X2 validation data\n",
    "log_reg_mod_pca.predict(X2_valid)\n",
    "\n",
    "log_reg_TrainingAccuracy = round(log_reg_mod_pca.score(X2_train, y2_train),4)\n",
    "log_reg_ValidationAccuracy = round(log_reg_mod_pca.score(X2_valid, y2_valid),4)\n",
    "\n",
    "# calculate the training and validaton accuracy of model\n",
    "print('Training Accuracy:  ', log_reg_TrainingAccuracy)\n",
    "print('Validation Accuracy:', log_reg_ValidationAccuracy)"
   ]
  },
  {
   "cell_type": "markdown",
   "metadata": {},
   "source": [
    "#### Use this logistic regression model to predict the label values of toPredict data."
   ]
  },
  {
   "cell_type": "code",
   "execution_count": 42,
   "metadata": {},
   "outputs": [
    {
     "data": {
      "text/html": [
       "<div>\n",
       "<style scoped>\n",
       "    .dataframe tbody tr th:only-of-type {\n",
       "        vertical-align: middle;\n",
       "    }\n",
       "\n",
       "    .dataframe tbody tr th {\n",
       "        vertical-align: top;\n",
       "    }\n",
       "\n",
       "    .dataframe thead th {\n",
       "        text-align: right;\n",
       "    }\n",
       "</style>\n",
       "<table border=\"1\" class=\"dataframe\">\n",
       "  <thead>\n",
       "    <tr style=\"text-align: right;\">\n",
       "      <th></th>\n",
       "      <th>DS_ID</th>\n",
       "      <th>log_reg_pca_pred</th>\n",
       "    </tr>\n",
       "  </thead>\n",
       "  <tbody>\n",
       "    <tr>\n",
       "      <th>0</th>\n",
       "      <td>10000</td>\n",
       "      <td>No</td>\n",
       "    </tr>\n",
       "    <tr>\n",
       "      <th>1</th>\n",
       "      <td>10001</td>\n",
       "      <td>No</td>\n",
       "    </tr>\n",
       "    <tr>\n",
       "      <th>2</th>\n",
       "      <td>10002</td>\n",
       "      <td>No</td>\n",
       "    </tr>\n",
       "    <tr>\n",
       "      <th>3</th>\n",
       "      <td>10003</td>\n",
       "      <td>No</td>\n",
       "    </tr>\n",
       "    <tr>\n",
       "      <th>4</th>\n",
       "      <td>10004</td>\n",
       "      <td>Yes</td>\n",
       "    </tr>\n",
       "  </tbody>\n",
       "</table>\n",
       "</div>"
      ],
      "text/plain": [
       "   DS_ID log_reg_pca_pred\n",
       "0  10000               No\n",
       "1  10001               No\n",
       "2  10002               No\n",
       "3  10003               No\n",
       "4  10004              Yes"
      ]
     },
     "execution_count": 42,
     "metadata": {},
     "output_type": "execute_result"
    }
   ],
   "source": [
    "test_log_reg_mod_pca = log_reg_mod_pca.predict(principalComp_toPredict_data_Df)\n",
    "\n",
    "# Create output of the predicted \n",
    "log_reg_mod_pca_predict = pd.DataFrame(test_ID)\n",
    "log_reg_mod_pca_predict['log_reg_pca_pred'] = test_log_reg_mod_pca\n",
    "log_reg_mod_pca_predict.head()"
   ]
  },
  {
   "cell_type": "markdown",
   "metadata": {},
   "source": [
    "#### Even though the prediction accuracy of model using PCA and without PCA is not much different, for this project I will use the PCA data for further analysis as it will make the model less complex.\n"
   ]
  },
  {
   "cell_type": "markdown",
   "metadata": {},
   "source": [
    "## Part I: Build the Decision tree:\n",
    "#### Build the Decision tree using normalized PCA data. Use the train and validation data created above using the normalized and PCA data to build and validate the model. "
   ]
  },
  {
   "cell_type": "markdown",
   "metadata": {},
   "source": [
    "#### Build the decision tree model and hypertune it to find the max depth for optimal performance."
   ]
  },
  {
   "cell_type": "code",
   "execution_count": 43,
   "metadata": {
    "scrolled": true
   },
   "outputs": [
    {
     "name": "stdout",
     "output_type": "stream",
     "text": [
      "Optimal value for max_depth:           2\n"
     ]
    }
   ],
   "source": [
    "# Decision tree hypertuning\n",
    "dt_train_acc = []\n",
    "dt_valid_acc = []\n",
    "depth_range = range(2, 35)\n",
    "\n",
    "for i in depth_range:\n",
    "    temp_tree = DecisionTreeClassifier(max_depth = i, random_state = 1)\n",
    "    temp_tree.fit(X2_train, y2_train)\n",
    "    dt_train_acc.append(temp_tree.score(X2_train, y2_train))\n",
    "    dt_valid_acc.append(temp_tree.score(X2_valid, y2_valid))\n",
    "\n",
    "dt_idx = np.argmax(dt_valid_acc)\n",
    "dt_opt_depth = depth_range[dt_idx]\n",
    "\n",
    "print('Optimal value for max_depth:          ', dt_opt_depth)\n"
   ]
  },
  {
   "cell_type": "markdown",
   "metadata": {},
   "source": [
    "#### Visually display the training and validation accuracy Vs maximum depth of tree. Line plot below confirms the max depth of the model is 2 as calculated above."
   ]
  },
  {
   "cell_type": "code",
   "execution_count": 44,
   "metadata": {
    "scrolled": true
   },
   "outputs": [
    {
     "data": {
      "image/png": "[encoded data removed]",
      "text/plain": [
       "<Figure size 720x360 with 1 Axes>"
      ]
     },
     "metadata": {
      "needs_background": "light"
     },
     "output_type": "display_data"
    }
   ],
   "source": [
    "# plot the training and validation accuracy as a function of max_depth\n",
    "plt.figure(figsize=([10, 5]))\n",
    "\n",
    "plt.plot(depth_range, dt_train_acc, label = 'Training')\n",
    "plt.plot(depth_range, dt_valid_acc, label = 'Validation')\n",
    "plt.xlabel('Max Depth')\n",
    "plt.ylabel('Accuracy')\n",
    "plt.xticks(depth_range)\n",
    "plt.legend()\n",
    "\n",
    "plt.show()"
   ]
  },
  {
   "cell_type": "markdown",
   "metadata": {},
   "source": [
    "#### Optimal decision tree model"
   ]
  },
  {
   "cell_type": "code",
   "execution_count": 45,
   "metadata": {},
   "outputs": [
    {
     "name": "stdout",
     "output_type": "stream",
     "text": [
      "Training Accuracy for Optimal Model:   0.7936\n",
      "Validation Accuracy for Optimal Model: 0.7831\n"
     ]
    }
   ],
   "source": [
    "dt_model = DecisionTreeClassifier(max_depth = dt_opt_depth, random_state = 1)\n",
    "dt_model.fit(X2_train, y2_train)\n",
    "\n",
    "dt_TrainingAccuracy = round(dt_model.score(X2_train, y2_train),4)\n",
    "dt_ValidationAccuracy = round(dt_model.score(X2_valid, y2_valid),4)\n",
    "\n",
    "print('Training Accuracy for Optimal Model:  ', dt_TrainingAccuracy)\n",
    "print('Validation Accuracy for Optimal Model:', dt_ValidationAccuracy)"
   ]
  },
  {
   "cell_type": "markdown",
   "metadata": {},
   "source": [
    "#### Predict the label / target variable from toPredict DataFrame."
   ]
  },
  {
   "cell_type": "code",
   "execution_count": 46,
   "metadata": {},
   "outputs": [
    {
     "data": {
      "text/html": [
       "<div>\n",
       "<style scoped>\n",
       "    .dataframe tbody tr th:only-of-type {\n",
       "        vertical-align: middle;\n",
       "    }\n",
       "\n",
       "    .dataframe tbody tr th {\n",
       "        vertical-align: top;\n",
       "    }\n",
       "\n",
       "    .dataframe thead th {\n",
       "        text-align: right;\n",
       "    }\n",
       "</style>\n",
       "<table border=\"1\" class=\"dataframe\">\n",
       "  <thead>\n",
       "    <tr style=\"text-align: right;\">\n",
       "      <th></th>\n",
       "      <th>DS_ID</th>\n",
       "      <th>rf_pca_pred</th>\n",
       "    </tr>\n",
       "  </thead>\n",
       "  <tbody>\n",
       "    <tr>\n",
       "      <th>0</th>\n",
       "      <td>10000</td>\n",
       "      <td>No</td>\n",
       "    </tr>\n",
       "    <tr>\n",
       "      <th>1</th>\n",
       "      <td>10001</td>\n",
       "      <td>No</td>\n",
       "    </tr>\n",
       "    <tr>\n",
       "      <th>2</th>\n",
       "      <td>10002</td>\n",
       "      <td>No</td>\n",
       "    </tr>\n",
       "    <tr>\n",
       "      <th>3</th>\n",
       "      <td>10003</td>\n",
       "      <td>No</td>\n",
       "    </tr>\n",
       "    <tr>\n",
       "      <th>4</th>\n",
       "      <td>10004</td>\n",
       "      <td>Yes</td>\n",
       "    </tr>\n",
       "  </tbody>\n",
       "</table>\n",
       "</div>"
      ],
      "text/plain": [
       "   DS_ID rf_pca_pred\n",
       "0  10000          No\n",
       "1  10001          No\n",
       "2  10002          No\n",
       "3  10003          No\n",
       "4  10004         Yes"
      ]
     },
     "execution_count": 46,
     "metadata": {},
     "output_type": "execute_result"
    }
   ],
   "source": [
    "test_pred_dt_pca = dt_model.predict(principalComp_toPredict_data_Df)\n",
    "\n",
    "# Create output of the predicted \n",
    "predict_dt_mod_pca = pd.DataFrame(test_ID)\n",
    "predict_dt_mod_pca['rf_pca_pred'] = test_pred_dt_pca\n",
    "predict_dt_mod_pca.head()"
   ]
  },
  {
   "cell_type": "markdown",
   "metadata": {},
   "source": [
    "## Part J: Build the Random forest model:\n",
    "#### Build the random forest model using normalized PCA data. Use the train and validation data created above using the normalized and PCA data to build and validate the model. "
   ]
  },
  {
   "cell_type": "markdown",
   "metadata": {},
   "source": [
    "#### Building the decision tree model and hypertune it to find the optimal depth."
   ]
  },
  {
   "cell_type": "code",
   "execution_count": 47,
   "metadata": {
    "scrolled": false
   },
   "outputs": [
    {
     "name": "stdout",
     "output_type": "stream",
     "text": [
      "Optimal value for max_depth:           6\n"
     ]
    }
   ],
   "source": [
    "# Random forest hypertuning\n",
    "rf_train_acc = []\n",
    "rf_valid_acc = []\n",
    "\n",
    "depth_range = range(2, 35)\n",
    "for i in depth_range:\n",
    "    temp_forest = RandomForestClassifier(n_estimators = 100, max_depth= i, random_state = 1)\n",
    "    temp_forest.fit(X2_train, y2_train)\n",
    "    rf_train_acc.append(temp_forest.score(X2_train, y2_train))\n",
    "    rf_valid_acc.append(temp_forest.score(X2_valid, y2_valid))\n",
    "\n",
    "rf_idx = np.argmax(rf_valid_acc)\n",
    "rf_opt_depth = depth_range[rf_idx]\n",
    "\n",
    "print('Optimal value for max_depth:          ', rf_opt_depth)"
   ]
  },
  {
   "cell_type": "markdown",
   "metadata": {},
   "source": [
    "#### Visually display the training and validation accuracy Vs maximum depth of tree. Line plot below confirms the max depth of the model is 6 as calculated above."
   ]
  },
  {
   "cell_type": "code",
   "execution_count": 48,
   "metadata": {
    "scrolled": false
   },
   "outputs": [
    {
     "data": {
      "image/png": "[encoded data removed]",
      "text/plain": [
       "<Figure size 720x360 with 1 Axes>"
      ]
     },
     "metadata": {
      "needs_background": "light"
     },
     "output_type": "display_data"
    }
   ],
   "source": [
    "# plot the training and validation accuracy as a function of max_depth\n",
    "plt.figure(figsize=([10, 5]))\n",
    "\n",
    "plt.plot(depth_range, rf_train_acc, label='Training')\n",
    "plt.plot(depth_range, rf_valid_acc, label='Validation')\n",
    "plt.xlabel('Max Depth')\n",
    "plt.ylabel('Accuracy')\n",
    "plt.xticks(depth_range)\n",
    "plt.legend()\n",
    "\n",
    "plt.show()"
   ]
  },
  {
   "cell_type": "markdown",
   "metadata": {},
   "source": [
    "#### Optimal random forest model"
   ]
  },
  {
   "cell_type": "code",
   "execution_count": 49,
   "metadata": {},
   "outputs": [
    {
     "name": "stdout",
     "output_type": "stream",
     "text": [
      "Training Accuracy for Optimal Model:   0.8874\n",
      "Validation Accuracy for Optimal Model: 0.7952\n"
     ]
    }
   ],
   "source": [
    "rf_model = RandomForestClassifier(n_estimators= 100, max_depth= rf_opt_depth, random_state = 1)\n",
    "rf_model.fit(X2_train, y2_train)\n",
    "\n",
    "rf_TrainingAccuracy = round(rf_model.score(X2_train, y2_train),4)\n",
    "rf_ValidationAccuracy = round(rf_model.score(X2_valid, y2_valid),4)\n",
    "\n",
    "print('Training Accuracy for Optimal Model:  ', rf_TrainingAccuracy)\n",
    "print('Validation Accuracy for Optimal Model:', rf_ValidationAccuracy)"
   ]
  },
  {
   "cell_type": "markdown",
   "metadata": {},
   "source": [
    "#### Predict the label / target variable from toPredict DataFrame."
   ]
  },
  {
   "cell_type": "code",
   "execution_count": 50,
   "metadata": {
    "scrolled": true
   },
   "outputs": [
    {
     "data": {
      "text/html": [
       "<div>\n",
       "<style scoped>\n",
       "    .dataframe tbody tr th:only-of-type {\n",
       "        vertical-align: middle;\n",
       "    }\n",
       "\n",
       "    .dataframe tbody tr th {\n",
       "        vertical-align: top;\n",
       "    }\n",
       "\n",
       "    .dataframe thead th {\n",
       "        text-align: right;\n",
       "    }\n",
       "</style>\n",
       "<table border=\"1\" class=\"dataframe\">\n",
       "  <thead>\n",
       "    <tr style=\"text-align: right;\">\n",
       "      <th></th>\n",
       "      <th>DS_ID</th>\n",
       "      <th>rf_pca_pred</th>\n",
       "    </tr>\n",
       "  </thead>\n",
       "  <tbody>\n",
       "    <tr>\n",
       "      <th>0</th>\n",
       "      <td>10000</td>\n",
       "      <td>Yes</td>\n",
       "    </tr>\n",
       "    <tr>\n",
       "      <th>1</th>\n",
       "      <td>10001</td>\n",
       "      <td>No</td>\n",
       "    </tr>\n",
       "    <tr>\n",
       "      <th>2</th>\n",
       "      <td>10002</td>\n",
       "      <td>No</td>\n",
       "    </tr>\n",
       "    <tr>\n",
       "      <th>3</th>\n",
       "      <td>10003</td>\n",
       "      <td>No</td>\n",
       "    </tr>\n",
       "    <tr>\n",
       "      <th>4</th>\n",
       "      <td>10004</td>\n",
       "      <td>Yes</td>\n",
       "    </tr>\n",
       "  </tbody>\n",
       "</table>\n",
       "</div>"
      ],
      "text/plain": [
       "   DS_ID rf_pca_pred\n",
       "0  10000         Yes\n",
       "1  10001          No\n",
       "2  10002          No\n",
       "3  10003          No\n",
       "4  10004         Yes"
      ]
     },
     "execution_count": 50,
     "metadata": {},
     "output_type": "execute_result"
    }
   ],
   "source": [
    "# predict the label variable\n",
    "test_pred_rf_pca = rf_model.predict(principalComp_toPredict_data_Df)\n",
    "\n",
    "# Create output of the predicted values \n",
    "predict_rf_mod_pca = pd.DataFrame(test_ID)\n",
    "predict_rf_mod_pca['rf_pca_pred'] = test_pred_rf_pca # concatenate the test ID\n",
    "predict_rf_mod_pca.head()"
   ]
  },
  {
   "cell_type": "markdown",
   "metadata": {},
   "source": [
    "## Park K: Build Support Vector Machine (SVM):\n",
    "#### Build the Support Vector Machine using normalized PCA data. Use the train and validation data created above using the normalized and PCA data to build and validate the model. \n"
   ]
  },
  {
   "cell_type": "code",
   "execution_count": 51,
   "metadata": {},
   "outputs": [
    {
     "name": "stdout",
     "output_type": "stream",
     "text": [
      "Training Accuracy:   0.8298\n",
      "Validation Accuracy: 0.8153\n"
     ]
    }
   ],
   "source": [
    "svm_model = SVC()\n",
    "svm_model.fit(X2_train,y2_train)\n",
    "\n",
    "svm_TrainingAccuracy = round(svm_model.score(X2_train, y2_train),4)\n",
    "svm_ValidationAccuracy = round(svm_model.score(X2_valid, y2_valid),4)\n",
    "\n",
    "print('Training Accuracy:  ', svm_TrainingAccuracy)\n",
    "print('Validation Accuracy:', svm_ValidationAccuracy)"
   ]
  },
  {
   "cell_type": "code",
   "execution_count": 52,
   "metadata": {},
   "outputs": [],
   "source": [
    "# predict the values\n",
    "svm_test_pred_pca_predict = svm_model.predict(principalComp_toPredict_data_Df)\n",
    "svm_test_pred_pca_predict1 = svm_model.predict(X2_valid)"
   ]
  },
  {
   "cell_type": "code",
   "execution_count": 53,
   "metadata": {
    "scrolled": true
   },
   "outputs": [
    {
     "name": "stdout",
     "output_type": "stream",
     "text": [
      "              precision    recall  f1-score   support\n",
      "\n",
      "          No       0.85      0.92      0.88       185\n",
      "         Yes       0.69      0.52      0.59        64\n",
      "\n",
      "    accuracy                           0.82       249\n",
      "   macro avg       0.77      0.72      0.74       249\n",
      "weighted avg       0.81      0.82      0.81       249\n",
      "\n"
     ]
    }
   ],
   "source": [
    "print(classification_report(y2_valid, svm_test_pred_pca_predict1))"
   ]
  },
  {
   "cell_type": "markdown",
   "metadata": {},
   "source": [
    "#### Predict the label / target variable from toPredict DataFrame."
   ]
  },
  {
   "cell_type": "code",
   "execution_count": 54,
   "metadata": {},
   "outputs": [
    {
     "data": {
      "text/html": [
       "<div>\n",
       "<style scoped>\n",
       "    .dataframe tbody tr th:only-of-type {\n",
       "        vertical-align: middle;\n",
       "    }\n",
       "\n",
       "    .dataframe tbody tr th {\n",
       "        vertical-align: top;\n",
       "    }\n",
       "\n",
       "    .dataframe thead th {\n",
       "        text-align: right;\n",
       "    }\n",
       "</style>\n",
       "<table border=\"1\" class=\"dataframe\">\n",
       "  <thead>\n",
       "    <tr style=\"text-align: right;\">\n",
       "      <th></th>\n",
       "      <th>DS_ID</th>\n",
       "      <th>svm_pca_pred</th>\n",
       "    </tr>\n",
       "  </thead>\n",
       "  <tbody>\n",
       "    <tr>\n",
       "      <th>0</th>\n",
       "      <td>10000</td>\n",
       "      <td>Yes</td>\n",
       "    </tr>\n",
       "    <tr>\n",
       "      <th>1</th>\n",
       "      <td>10001</td>\n",
       "      <td>No</td>\n",
       "    </tr>\n",
       "    <tr>\n",
       "      <th>2</th>\n",
       "      <td>10002</td>\n",
       "      <td>Yes</td>\n",
       "    </tr>\n",
       "    <tr>\n",
       "      <th>3</th>\n",
       "      <td>10003</td>\n",
       "      <td>No</td>\n",
       "    </tr>\n",
       "    <tr>\n",
       "      <th>4</th>\n",
       "      <td>10004</td>\n",
       "      <td>Yes</td>\n",
       "    </tr>\n",
       "  </tbody>\n",
       "</table>\n",
       "</div>"
      ],
      "text/plain": [
       "   DS_ID svm_pca_pred\n",
       "0  10000          Yes\n",
       "1  10001           No\n",
       "2  10002          Yes\n",
       "3  10003           No\n",
       "4  10004          Yes"
      ]
     },
     "execution_count": 54,
     "metadata": {},
     "output_type": "execute_result"
    }
   ],
   "source": [
    "Predict_svm_pca = pd.DataFrame(test_ID)\n",
    "Predict_svm_pca['svm_pca_pred'] = svm_test_pred_pca_predict\n",
    "Predict_svm_pca.head()"
   ]
  },
  {
   "cell_type": "markdown",
   "metadata": {},
   "source": [
    "## Part L: Build Neural networks:\n",
    "#### Build the Neural network using normalized PCA data. Use the train and validation data created above using the normalized and PCA data to build and validate the model. "
   ]
  },
  {
   "cell_type": "code",
   "execution_count": 55,
   "metadata": {},
   "outputs": [],
   "source": [
    "classifier = MLPClassifier(hidden_layer_sizes=(150,100,50), \n",
    "                           max_iter=1500, activation = 'relu', solver='lbfgs',random_state=1)\n",
    "\n",
    "nnc = classifier.fit(X2_train, y2_train)"
   ]
  },
  {
   "cell_type": "code",
   "execution_count": 56,
   "metadata": {},
   "outputs": [
    {
     "name": "stdout",
     "output_type": "stream",
     "text": [
      "0.751\n"
     ]
    }
   ],
   "source": [
    "nn_valid_pred_pca=nnc.predict(X2_valid)\n",
    "nn_ValidationAccuracy = round(np.mean(nn_valid_pred_pca==y2_valid),4)\n",
    "print(nn_ValidationAccuracy)"
   ]
  },
  {
   "cell_type": "markdown",
   "metadata": {},
   "source": [
    "#### Predict the label / target variable from toPredict DataFrame."
   ]
  },
  {
   "cell_type": "code",
   "execution_count": 57,
   "metadata": {},
   "outputs": [
    {
     "data": {
      "text/html": [
       "<div>\n",
       "<style scoped>\n",
       "    .dataframe tbody tr th:only-of-type {\n",
       "        vertical-align: middle;\n",
       "    }\n",
       "\n",
       "    .dataframe tbody tr th {\n",
       "        vertical-align: top;\n",
       "    }\n",
       "\n",
       "    .dataframe thead th {\n",
       "        text-align: right;\n",
       "    }\n",
       "</style>\n",
       "<table border=\"1\" class=\"dataframe\">\n",
       "  <thead>\n",
       "    <tr style=\"text-align: right;\">\n",
       "      <th></th>\n",
       "      <th>DS_ID</th>\n",
       "      <th>nn_pca_pred</th>\n",
       "    </tr>\n",
       "  </thead>\n",
       "  <tbody>\n",
       "    <tr>\n",
       "      <th>0</th>\n",
       "      <td>10000</td>\n",
       "      <td>Yes</td>\n",
       "    </tr>\n",
       "    <tr>\n",
       "      <th>1</th>\n",
       "      <td>10001</td>\n",
       "      <td>No</td>\n",
       "    </tr>\n",
       "    <tr>\n",
       "      <th>2</th>\n",
       "      <td>10002</td>\n",
       "      <td>Yes</td>\n",
       "    </tr>\n",
       "    <tr>\n",
       "      <th>3</th>\n",
       "      <td>10003</td>\n",
       "      <td>Yes</td>\n",
       "    </tr>\n",
       "    <tr>\n",
       "      <th>4</th>\n",
       "      <td>10004</td>\n",
       "      <td>No</td>\n",
       "    </tr>\n",
       "  </tbody>\n",
       "</table>\n",
       "</div>"
      ],
      "text/plain": [
       "   DS_ID nn_pca_pred\n",
       "0  10000         Yes\n",
       "1  10001          No\n",
       "2  10002         Yes\n",
       "3  10003         Yes\n",
       "4  10004          No"
      ]
     },
     "execution_count": 57,
     "metadata": {},
     "output_type": "execute_result"
    }
   ],
   "source": [
    "# Predict values\n",
    "nn_test_pred_pca=nnc.predict(principalComp_toPredict_data_Df)\n",
    "\n",
    "predict_nn_pca = pd.DataFrame(test_ID)\n",
    "predict_nn_pca['nn_pca_pred'] = nn_test_pred_pca\n",
    "predict_nn_pca.head()"
   ]
  },
  {
   "cell_type": "markdown",
   "metadata": {},
   "source": [
    "## Part M: Identify the best predictive model and predict the label:\n",
    "#### Compile the model performance, choose the best model. Make the prediction using the best model."
   ]
  },
  {
   "cell_type": "code",
   "execution_count": 58,
   "metadata": {
    "scrolled": true
   },
   "outputs": [
    {
     "data": {
      "text/html": [
       "<div>\n",
       "<style scoped>\n",
       "    .dataframe tbody tr th:only-of-type {\n",
       "        vertical-align: middle;\n",
       "    }\n",
       "\n",
       "    .dataframe tbody tr th {\n",
       "        vertical-align: top;\n",
       "    }\n",
       "\n",
       "    .dataframe thead th {\n",
       "        text-align: right;\n",
       "    }\n",
       "</style>\n",
       "<table border=\"1\" class=\"dataframe\">\n",
       "  <thead>\n",
       "    <tr style=\"text-align: right;\">\n",
       "      <th></th>\n",
       "      <th>Model_Type</th>\n",
       "      <th>Validation_Accuracy</th>\n",
       "    </tr>\n",
       "  </thead>\n",
       "  <tbody>\n",
       "    <tr>\n",
       "      <th>0</th>\n",
       "      <td>Logistic Regression</td>\n",
       "      <td>0.8193</td>\n",
       "    </tr>\n",
       "    <tr>\n",
       "      <th>1</th>\n",
       "      <td>Decision Tree</td>\n",
       "      <td>0.7831</td>\n",
       "    </tr>\n",
       "    <tr>\n",
       "      <th>2</th>\n",
       "      <td>Random Forest</td>\n",
       "      <td>0.7952</td>\n",
       "    </tr>\n",
       "    <tr>\n",
       "      <th>3</th>\n",
       "      <td>Support Vector Machine</td>\n",
       "      <td>0.8153</td>\n",
       "    </tr>\n",
       "    <tr>\n",
       "      <th>4</th>\n",
       "      <td>Neural Network</td>\n",
       "      <td>0.7510</td>\n",
       "    </tr>\n",
       "  </tbody>\n",
       "</table>\n",
       "</div>"
      ],
      "text/plain": [
       "               Model_Type  Validation_Accuracy\n",
       "0     Logistic Regression               0.8193\n",
       "1           Decision Tree               0.7831\n",
       "2           Random Forest               0.7952\n",
       "3  Support Vector Machine               0.8153\n",
       "4          Neural Network               0.7510"
      ]
     },
     "execution_count": 58,
     "metadata": {},
     "output_type": "execute_result"
    }
   ],
   "source": [
    "df = {'Model_Type': [\"Logistic Regression\", \"Decision Tree\", \"Random Forest\", \"Support Vector Machine\",\"Neural Network\"],\n",
    "'Validation_Accuracy': [log_reg_ValidationAccuracy, dt_ValidationAccuracy, rf_ValidationAccuracy, svm_ValidationAccuracy, nn_ValidationAccuracy]}\n",
    "df1 = pd.DataFrame(df)\n",
    "df1"
   ]
  },
  {
   "cell_type": "markdown",
   "metadata": {},
   "source": [
    "#### As both SVM and logistic regression had the highest validation score, we can select either one of them as the best model for prediction. For this project I will choose logistic regression as the best model to predict and use it to predict the label value based on member information as captured in the toPredict DataFrame."
   ]
  },
  {
   "cell_type": "code",
   "execution_count": 59,
   "metadata": {
    "scrolled": true
   },
   "outputs": [
    {
     "data": {
      "text/html": [
       "<div>\n",
       "<style scoped>\n",
       "    .dataframe tbody tr th:only-of-type {\n",
       "        vertical-align: middle;\n",
       "    }\n",
       "\n",
       "    .dataframe tbody tr th {\n",
       "        vertical-align: top;\n",
       "    }\n",
       "\n",
       "    .dataframe thead th {\n",
       "        text-align: right;\n",
       "    }\n",
       "</style>\n",
       "<table border=\"1\" class=\"dataframe\">\n",
       "  <thead>\n",
       "    <tr style=\"text-align: right;\">\n",
       "      <th></th>\n",
       "      <th>DS_ID</th>\n",
       "      <th>Prediction_LeftUnion</th>\n",
       "    </tr>\n",
       "  </thead>\n",
       "  <tbody>\n",
       "    <tr>\n",
       "      <th>0</th>\n",
       "      <td>10000</td>\n",
       "      <td>No</td>\n",
       "    </tr>\n",
       "    <tr>\n",
       "      <th>1</th>\n",
       "      <td>10001</td>\n",
       "      <td>No</td>\n",
       "    </tr>\n",
       "    <tr>\n",
       "      <th>2</th>\n",
       "      <td>10002</td>\n",
       "      <td>No</td>\n",
       "    </tr>\n",
       "    <tr>\n",
       "      <th>3</th>\n",
       "      <td>10003</td>\n",
       "      <td>No</td>\n",
       "    </tr>\n",
       "    <tr>\n",
       "      <th>4</th>\n",
       "      <td>10004</td>\n",
       "      <td>Yes</td>\n",
       "    </tr>\n",
       "    <tr>\n",
       "      <th>5</th>\n",
       "      <td>10005</td>\n",
       "      <td>Yes</td>\n",
       "    </tr>\n",
       "    <tr>\n",
       "      <th>6</th>\n",
       "      <td>10006</td>\n",
       "      <td>No</td>\n",
       "    </tr>\n",
       "    <tr>\n",
       "      <th>7</th>\n",
       "      <td>10007</td>\n",
       "      <td>No</td>\n",
       "    </tr>\n",
       "    <tr>\n",
       "      <th>8</th>\n",
       "      <td>10008</td>\n",
       "      <td>No</td>\n",
       "    </tr>\n",
       "    <tr>\n",
       "      <th>9</th>\n",
       "      <td>10009</td>\n",
       "      <td>No</td>\n",
       "    </tr>\n",
       "  </tbody>\n",
       "</table>\n",
       "</div>"
      ],
      "text/plain": [
       "   DS_ID Prediction_LeftUnion\n",
       "0  10000                   No\n",
       "1  10001                   No\n",
       "2  10002                   No\n",
       "3  10003                   No\n",
       "4  10004                  Yes\n",
       "5  10005                  Yes\n",
       "6  10006                   No\n",
       "7  10007                   No\n",
       "8  10008                   No\n",
       "9  10009                   No"
      ]
     },
     "execution_count": 59,
     "metadata": {},
     "output_type": "execute_result"
    }
   ],
   "source": [
    "# predict the label / independent variable of test data\n",
    "test_log_reg_mod_pca = log_reg_mod_pca.predict(principalComp_toPredict_data_Df)\n",
    "\n",
    "# Create output of the predicted \n",
    "log_reg_mod_pca_predict = pd.DataFrame(test_ID)\n",
    "log_reg_mod_pca_predict['Prediction_LeftUnion'] = test_log_reg_mod_pca\n",
    "log_reg_mod_pca_predict.head(10)"
   ]
  },
  {
   "cell_type": "markdown",
   "metadata": {},
   "source": [
    "#### Save the prediction to local drive for further calculation or future reference."
   ]
  },
  {
   "cell_type": "code",
   "execution_count": 60,
   "metadata": {},
   "outputs": [],
   "source": [
    "# Save the prediction to csv\n",
    "log_reg_mod_pca_predict.to_csv(\"LeftUnion_Prediction.csv\")"
   ]
  }
 ],
 "metadata": {
  "kernelspec": {
   "display_name": "Python 3 (ipykernel)",
   "language": "python",
   "name": "python3"
  },
  "language_info": {
   "codemirror_mode": {
    "name": "ipython",
    "version": 3
   },
   "file_extension": ".py",
   "mimetype": "text/x-python",
   "name": "python",
   "nbconvert_exporter": "python",
   "pygments_lexer": "ipython3",
   "version": "3.9.13"
  }
 },
 "nbformat": 4,
 "nbformat_minor": 4
}
